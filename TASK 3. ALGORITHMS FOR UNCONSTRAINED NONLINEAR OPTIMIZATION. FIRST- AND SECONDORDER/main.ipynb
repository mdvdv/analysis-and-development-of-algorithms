{
 "cells": [
  {
   "cell_type": "markdown",
   "metadata": {},
   "source": [
    "<h1>TASK 3. ALGORITHMS FOR UNCONSTRAINED NONLINEAR OPTIMIZATION. FIRST- AND SECONDORDER</h1>"
   ]
  },
  {
   "cell_type": "markdown",
   "metadata": {},
   "source": [
    "<a name='000'></a>\n",
    "\n",
    "<h2>Content</h2>\n",
    "\n",
    "<ul>\n",
    "    <ol type='1'>\n",
    "    <li><a href='#001'>Environment configuration</a></li>\n",
    "    <li><a href='#002'>Appendix to Section I</a></li>\n",
    "    </ol>\n",
    "</ul>"
   ]
  },
  {
   "cell_type": "markdown",
   "metadata": {},
   "source": [
    "<a name='001'></a>\n",
    "\n",
    "<h2>Environment configuration</h2>"
   ]
  },
  {
   "cell_type": "code",
   "execution_count": 1,
   "metadata": {},
   "outputs": [],
   "source": [
    "import numpy as np\n",
    "import scipy.optimize\n",
    "from autograd import jacobian\n",
    "import matplotlib.pyplot as plt\n",
    "import warnings\n",
    "import random"
   ]
  },
  {
   "cell_type": "code",
   "execution_count": 2,
   "metadata": {},
   "outputs": [],
   "source": [
    "warnings.filterwarnings(action='ignore')\n",
    "random.seed(0)"
   ]
  },
  {
   "cell_type": "markdown",
   "metadata": {},
   "source": [
    "<a name='002'></a>\n",
    "\n",
    "<h2>Appendix to Section I</h2>"
   ]
  },
  {
   "cell_type": "markdown",
   "metadata": {},
   "source": [
    "Implementing the functions and the range of values of the functions."
   ]
  },
  {
   "cell_type": "code",
   "execution_count": 3,
   "metadata": {},
   "outputs": [],
   "source": [
    "alpha = np.random.random()\n",
    "beta = np.random.random()\n",
    "noise = np.random.normal(0, 1, 100)\n",
    "epsilon = 0.001\n",
    "\n",
    "x_k = np.arange(0, 1, 0.01)\n",
    "y_k = [alpha * x_k[k] + beta + noise[k] for k in range(len(x_k))]"
   ]
  },
  {
   "cell_type": "code",
   "execution_count": 4,
   "metadata": {},
   "outputs": [],
   "source": [
    "def linear_approximant(x, a, b):\n",
    "    return a * x + b\n",
    "\n",
    "def rational_approximant(x, a, b):\n",
    "    return a / (1 + b * x)"
   ]
  },
  {
   "cell_type": "code",
   "execution_count": 5,
   "metadata": {},
   "outputs": [],
   "source": [
    "def loss_function(x, function):\n",
    "    amount = 0\n",
    "    \n",
    "    for i in range(100):\n",
    "        amount = amount + np.power(function(x_k[i], x[0], x[1]) - y_k[i], 2)\n",
    "    \n",
    "    return amount"
   ]
  },
  {
   "cell_type": "markdown",
   "metadata": {},
   "source": [
    "Implementing the algorithms of exhaustive search, Gauss and Nelder-Mead."
   ]
  },
  {
   "cell_type": "code",
   "execution_count": 6,
   "metadata": {},
   "outputs": [],
   "source": [
    "def gradient_descent(function, args):\n",
    "    return scipy.optimize.minimize(\n",
    "        function,\n",
    "        x0=(0, 0),\n",
    "        method='BFGS',\n",
    "        args=(args,),\n",
    "        tol=epsilon\n",
    "    )\n",
    "\n",
    "def conjugate_gradient_descent(function, args):\n",
    "    return scipy.optimize.minimize(\n",
    "        function,\n",
    "        x0=(0, 0),\n",
    "        method='CG',\n",
    "        args=(args,),\n",
    "        tol=epsilon\n",
    "    )\n",
    "\n",
    "def newtons_method(function, args):\n",
    "    return scipy.optimize.minimize(\n",
    "        function,\n",
    "        x0=(0, 0),\n",
    "        method='Newton-CG',\n",
    "        jac=jacobian(function),\n",
    "        args=(args,),\n",
    "        tol=epsilon\n",
    "    )\n",
    "\n",
    "def levenberg_marquardt_algorithm(function, x, y):\n",
    "    return scipy.optimize.curve_fit(\n",
    "        function,\n",
    "        xdata=x,\n",
    "        ydata=y,\n",
    "        method='lm'\n",
    "    )"
   ]
  },
  {
   "cell_type": "code",
   "execution_count": 7,
   "metadata": {},
   "outputs": [
    {
     "name": "stdout",
     "output_type": "stream",
     "text": [
      "Gradient descent arguments: 0.499114, 0.119546\n"
     ]
    }
   ],
   "source": [
    "gradient_lower, gradient_higher = gradient_descent(loss_function, linear_approximant).x\n",
    "\n",
    "print('Gradient descent arguments: {:.6f}, {:.6f}'.format(gradient_lower, gradient_higher))"
   ]
  },
  {
   "cell_type": "code",
   "execution_count": 8,
   "metadata": {},
   "outputs": [
    {
     "name": "stdout",
     "output_type": "stream",
     "text": [
      "Conjugate gradient descent arguments: 0.499114, 0.119547\n"
     ]
    }
   ],
   "source": [
    "conjugate_lower, conjugate_higher = conjugate_gradient_descent(loss_function, linear_approximant).x\n",
    "\n",
    "print('Conjugate gradient descent arguments: {:.6f}, {:.6f}'.format(conjugate_lower, conjugate_higher))"
   ]
  },
  {
   "cell_type": "code",
   "execution_count": 9,
   "metadata": {},
   "outputs": [
    {
     "name": "stdout",
     "output_type": "stream",
     "text": [
      "Newtons method arguments: 0.499114, 0.119546\n"
     ]
    }
   ],
   "source": [
    "newtons_lower, newtons_higher = newtons_method(loss_function, linear_approximant).x\n",
    "\n",
    "print('Newtons method arguments: {:.6f}, {:.6f}'.format(newtons_lower, newtons_higher))"
   ]
  },
  {
   "cell_type": "code",
   "execution_count": 10,
   "metadata": {},
   "outputs": [
    {
     "name": "stdout",
     "output_type": "stream",
     "text": [
      "Levenberg-Marquardt algorithm arguments: 0.499114, 0.119546\n"
     ]
    }
   ],
   "source": [
    "levenberg_lower, levenberg_higher = levenberg_marquardt_algorithm(linear_approximant, x_k, y_k)[0]\n",
    "\n",
    "print('Levenberg-Marquardt algorithm arguments: {:.6f}, {:.6f}'.format(levenberg_lower, levenberg_higher))"
   ]
  },
  {
   "cell_type": "code",
   "execution_count": 11,
   "metadata": {},
   "outputs": [
    {
     "data": {
      "image/png": "[encoded data removed]",
      "text/plain": [
       "<Figure size 1440x720 with 1 Axes>"
      ]
     },
     "metadata": {
      "needs_background": "light"
     },
     "output_type": "display_data"
    }
   ],
   "source": [
    "plt.figure(figsize=(20, 10))\n",
    "plt.plot(x_k, y_k, '+', label='Data')\n",
    "\n",
    "y = [linear_approximant(x, gradient_lower, gradient_higher) for x in x_k]\n",
    "plt.plot(x_k, y, label='Gradient descent')\n",
    "\n",
    "y = [linear_approximant(x, conjugate_lower, conjugate_higher) for x in x_k]\n",
    "plt.plot(x_k, y, label='Conjugate gradient descent')\n",
    "\n",
    "y = [linear_approximant(x, newtons_lower, newtons_higher) for x in x_k]\n",
    "plt.plot(x_k, y, label='Newtons method')\n",
    "\n",
    "y = [linear_approximant(x, levenberg_lower, levenberg_higher) for x in x_k]\n",
    "plt.plot(x_k, y, label='Levenberg-Marquardt algorithm')\n",
    "\n",
    "ax = plt.gca()\n",
    "ax.axhline(y=0, color='k')\n",
    "ax.axvline(x=0, color='k')\n",
    "ax.spines['top'].set_visible(False)\n",
    "ax.spines['bottom'].set_visible(False)\n",
    "ax.spines['right'].set_visible(False)\n",
    "ax.spines['left'].set_visible(False)\n",
    "ax.set_title('Minimization of Linear Approximating Function')\n",
    "ax.legend()\n",
    "\n",
    "plt.show()"
   ]
  },
  {
   "cell_type": "code",
   "execution_count": 12,
   "metadata": {},
   "outputs": [
    {
     "name": "stdout",
     "output_type": "stream",
     "text": [
      "Gradient descent arguments: 0.209032, -0.721034\n"
     ]
    }
   ],
   "source": [
    "gradient_lower, gradient_higher = gradient_descent(loss_function, rational_approximant).x\n",
    "\n",
    "print('Gradient descent arguments: {:.6f}, {:.6f}'.format(gradient_lower, gradient_higher))"
   ]
  },
  {
   "cell_type": "code",
   "execution_count": 13,
   "metadata": {},
   "outputs": [
    {
     "name": "stdout",
     "output_type": "stream",
     "text": [
      "Conjugate gradient descent arguments: 0.209032, -0.721034\n"
     ]
    }
   ],
   "source": [
    "conjugate_lower, conjugate_higher = conjugate_gradient_descent(loss_function, rational_approximant).x\n",
    "\n",
    "print('Conjugate gradient descent arguments: {:.6f}, {:.6f}'.format(conjugate_lower, conjugate_higher))"
   ]
  },
  {
   "cell_type": "code",
   "execution_count": 14,
   "metadata": {},
   "outputs": [
    {
     "name": "stdout",
     "output_type": "stream",
     "text": [
      "Newtons method arguments: 0.209030, -0.721043\n"
     ]
    }
   ],
   "source": [
    "newtons_lower, newtons_higher = newtons_method(loss_function, rational_approximant).x\n",
    "\n",
    "print('Newtons method arguments: {:.6f}, {:.6f}'.format(newtons_lower, newtons_higher))"
   ]
  },
  {
   "cell_type": "code",
   "execution_count": 15,
   "metadata": {},
   "outputs": [
    {
     "name": "stdout",
     "output_type": "stream",
     "text": [
      "Levenberg-Marquardt algorithm arguments: 0.209031, -0.721037\n"
     ]
    }
   ],
   "source": [
    "levenberg_lower, levenberg_higher = levenberg_marquardt_algorithm(rational_approximant, x_k, y_k)[0]\n",
    "\n",
    "print('Levenberg-Marquardt algorithm arguments: {:.6f}, {:.6f}'.format(levenberg_lower, levenberg_higher))"
   ]
  },
  {
   "cell_type": "code",
   "execution_count": 16,
   "metadata": {},
   "outputs": [
    {
     "data": {
      "image/png": "[encoded data removed]",
      "text/plain": [
       "<Figure size 1440x720 with 1 Axes>"
      ]
     },
     "metadata": {
      "needs_background": "light"
     },
     "output_type": "display_data"
    }
   ],
   "source": [
    "plt.figure(figsize=(20, 10))\n",
    "plt.plot(x_k, y_k, '+', label='Data')\n",
    "\n",
    "y = [rational_approximant(x, gradient_lower, gradient_higher) for x in x_k]\n",
    "plt.plot(x_k, y, label='Gradient descent')\n",
    "\n",
    "y = [rational_approximant(x, conjugate_lower, conjugate_higher) for x in x_k]\n",
    "plt.plot(x_k, y, label='Conjugate gradient descent')\n",
    "\n",
    "y = [rational_approximant(x, newtons_lower, newtons_higher) for x in x_k]\n",
    "plt.plot(x_k, y, label='Newtons method')\n",
    "\n",
    "y = [rational_approximant(x, levenberg_lower, levenberg_higher) for x in x_k]\n",
    "plt.plot(x_k, y, label='Levenberg-Marquardt algorithm')\n",
    "\n",
    "ax = plt.gca()\n",
    "ax.axhline(y=0, color='k')\n",
    "ax.axvline(x=0, color='k')\n",
    "ax.spines['top'].set_visible(False)\n",
    "ax.spines['bottom'].set_visible(False)\n",
    "ax.spines['right'].set_visible(False)\n",
    "ax.spines['left'].set_visible(False)\n",
    "ax.set_title('Minimization of Rational Approximating Function')\n",
    "ax.legend()\n",
    "\n",
    "plt.show()"
   ]
  }
 ],
 "metadata": {
  "kernelspec": {
   "display_name": "Python 3",
   "language": "python",
   "name": "python3"
  },
  "language_info": {
   "codemirror_mode": {
    "name": "ipython",
    "version": 3
   },
   "file_extension": ".py",
   "mimetype": "text/x-python",
   "name": "python",
   "nbconvert_exporter": "python",
   "pygments_lexer": "ipython3",
   "version": "3.8.3"
  },
  "latex_envs": {
   "LaTeX_envs_menu_present": true,
   "autoclose": false,
   "autocomplete": true,
   "bibliofile": "biblio.bib",
   "cite_by": "apalike",
   "current_citInitial": 1,
   "eqLabelWithNumbers": true,
   "eqNumInitial": 1,
   "hotkeys": {
    "equation": "Ctrl-E",
    "itemize": "Ctrl-I"
   },
   "labels_anchors": false,
   "latex_user_defs": false,
   "report_style_numbering": false,
   "user_envs_cfg": false
  }
 },
 "nbformat": 4,
 "nbformat_minor": 4
}
