{
 "cells": [
  {
   "cell_type": "markdown",
   "metadata": {},
   "source": [
    "<h1>TASK 2. ALGORITHMS FOR UNCONSTRAINED NONLINEAR OPTIMIZATION. DIRECT METHODS</h1>"
   ]
  },
  {
   "cell_type": "markdown",
   "metadata": {},
   "source": [
    "<a name='000'></a>\n",
    "\n",
    "<h2>Content</h2>\n",
    "\n",
    "<ul>\n",
    "    <ol type='1'>\n",
    "    <li><a href='#001'>Environment configuration</a></li>\n",
    "    <li><a href='#002'>Appendix to Section I</a></li>\n",
    "    <li><a href='#003'>Appendix to Section II</a></li>\n",
    "    </ol>\n",
    "</ul>"
   ]
  },
  {
   "cell_type": "markdown",
   "metadata": {},
   "source": [
    "<table>\n",
    "<tr>\n",
    "<th>1-я ячейка 1-я строка</th>\n",
    "<th>2-я ячейка 1-я строка</th>\n",
    "<th>3-я ячейка 1-я строка</th>\n",
    "<th>4-я ячейка 1-я строка</th>\n",
    "<th>5-я ячейка 1-я строка</th>\n",
    "<th>1-я ячейка 1-я строка</th>\n",
    "<th>2-я ячейка 1-я строка</th>\n",
    "<th>3-я ячейка 1-я строка</th>\n",
    "<th>4-я ячейка 1-я строка</th>\n",
    "<th>5-я ячейка 1-я строка</th>\n",
    "</tr>\n",
    "<tr>\n",
    "<td>1-я ячейка 2-я строка</td>\n",
    "<td>2-я ячейка 2-я строка</td>\n",
    "<td>3-я ячейка 2-я строка</td>\n",
    "<td>4-я ячейка 2-я строка</td>\n",
    "<td>5-я ячейка 2-я строка</td>\n",
    "<td>1-я ячейка 2-я строка</td>\n",
    "<td>2-я ячейка 2-я строка</td>\n",
    "<td>3-я ячейка 2-я строка</td>\n",
    "<td>4-я ячейка 2-я строка</td>\n",
    "<td>5-я ячейка 2-я строка</td>\n",
    "</tr>\n",
    "<tr>\n",
    "<td>1-я ячейка 3-я строка</td>\n",
    "<td>2-я ячейка 3-я строка</td>\n",
    "<td>3-я ячейка 3-я строка</td>\n",
    "<td>4-я ячейка 3-я строка</td>\n",
    "<td>5-я ячейка 3-я строка</td>\n",
    "<td>1-я ячейка 3-я строка</td>\n",
    "<td>2-я ячейка 3-я строка</td>\n",
    "<td>3-я ячейка 3-я строка</td>\n",
    "<td>4-я ячейка 3-я строка</td>\n",
    "<td>5-я ячейка 3-я строка</td>\n",
    "</tr>\n",
    "</table>\n",
    "\n",
    "$$O(n)$$"
   ]
  },
  {
   "cell_type": "markdown",
   "metadata": {},
   "source": [
    "<table>\n",
    "<tr>\n",
    "<th>1-я ячейка 1-я строка</th>\n",
    "<th>2-я ячейка 1-я строка</th>\n",
    "<th>3-я ячейка 1-я строка</th>\n",
    "</tr>\n",
    "<tr>\n",
    "<td>1-я ячейка 2-я строка</td>\n",
    "<td>2-я ячейка 2-я строка</td>\n",
    "<td>3-я ячейка 2-я строка</td>\n",
    "</tr>\n",
    "<tr>\n",
    "<td>1-я ячейка 3-я строка</td>\n",
    "<td>2-я ячейка 3-я строка</td>\n",
    "<td>3-я ячейка 3-я строка</td>\n",
    "</tr>\n",
    "<tr>\n",
    "<td>1-я ячейка 3-я строка</td>\n",
    "<td>2-я ячейка 3-я строка</td>\n",
    "<td>3-я ячейка 3-я строка</td>\n",
    "</tr>\n",
    "<tr>\n",
    "<td>1-я ячейка 3-я строка</td>\n",
    "<td>2-я ячейка 3-я строка</td>\n",
    "<td>3-я ячейка 3-я строка</td>\n",
    "</tr>\n",
    "<tr>\n",
    "<td>1-я ячейка 3-я строка</td>\n",
    "<td>2-я ячейка 3-я строка</td>\n",
    "<td>3-я ячейка 3-я строка</td>\n",
    "</tr>\n",
    "<tr>\n",
    "<td>1-я ячейка 3-я строка</td>\n",
    "<td>2-я ячейка 3-я строка</td>\n",
    "<td>3-я ячейка 3-я строка</td>\n",
    "</tr>\n",
    "<tr>\n",
    "<td>1-я ячейка 3-я строка</td>\n",
    "<td>2-я ячейка 3-я строка</td>\n",
    "<td>3-я ячейка 3-я строка</td>\n",
    "</tr>\n",
    "<tr>\n",
    "<td>1-я ячейка 3-я строка</td>\n",
    "<td>2-я ячейка 3-я строка</td>\n",
    "<td>3-я ячейка 3-я строка</td>\n",
    "</tr>\n",
    "<tr>\n",
    "<td>1-я ячейка 3-я строка</td>\n",
    "<td>2-я ячейка 3-я строка</td>\n",
    "<td>3-я ячейка 3-я строка</td>\n",
    "</tr>\n",
    "</table>"
   ]
  },
  {
   "cell_type": "markdown",
   "metadata": {},
   "source": [
    "<a name='001'></a>\n",
    "\n",
    "<h2>Environment configuration</h2>"
   ]
  },
  {
   "cell_type": "code",
   "execution_count": 1,
   "metadata": {},
   "outputs": [],
   "source": [
    "import numpy as np\n",
    "import matplotlib.pyplot as plt\n",
    "import warnings"
   ]
  },
  {
   "cell_type": "code",
   "execution_count": 2,
   "metadata": {},
   "outputs": [],
   "source": [
    "warnings.filterwarnings(action='ignore')"
   ]
  },
  {
   "cell_type": "markdown",
   "metadata": {},
   "source": [
    "<a name='002'></a>\n",
    "\n",
    "<h2>Appendix to Section I</h2>"
   ]
  },
  {
   "cell_type": "markdown",
   "metadata": {},
   "source": [
    "Implementing the functions and the range of values of the functions."
   ]
  },
  {
   "cell_type": "code",
   "execution_count": 3,
   "metadata": {},
   "outputs": [],
   "source": [
    "def cubic_function(x):\n",
    "    return np.power(x, 3)\n",
    "\n",
    "def absolute_function(x):\n",
    "    return np.absolute(x-0.2)\n",
    "\n",
    "def sine_function(x):\n",
    "    return x * np.sin(1/x)"
   ]
  },
  {
   "cell_type": "code",
   "execution_count": 4,
   "metadata": {},
   "outputs": [],
   "source": [
    "epsilon = 0.001\n",
    "\n",
    "cubic_range = np.arange(0, 1+epsilon, epsilon)\n",
    "absolute_range = np.arange(0, 1+epsilon, epsilon)\n",
    "sine_range = np.arange(0.01, 1+epsilon, epsilon)"
   ]
  },
  {
   "cell_type": "code",
   "execution_count": 5,
   "metadata": {},
   "outputs": [],
   "source": [
    "def plot(x, y, label):\n",
    "    plt.plot(x, y, c='r')\n",
    "    \n",
    "    ax = plt.gca()\n",
    "    ax.axhline(y=0, color='k')\n",
    "    ax.axvline(x=0, color='k')\n",
    "    ax.spines['top'].set_visible(False)\n",
    "    ax.spines['bottom'].set_visible(False)\n",
    "    ax.spines['right'].set_visible(False)\n",
    "    ax.spines['left'].set_visible(False)\n",
    "    ax.set_title(label)\n",
    "    \n",
    "    plt.xlabel('x')\n",
    "    plt.ylabel('f(x)')\n",
    "    plt.show()"
   ]
  },
  {
   "cell_type": "code",
   "execution_count": 6,
   "metadata": {},
   "outputs": [
    {
     "data": {
      "image/png": "[encoded data removed]",
      "text/plain": [
       "<Figure size 432x288 with 1 Axes>"
      ]
     },
     "metadata": {
      "needs_background": "light"
     },
     "output_type": "display_data"
    },
    {
     "data": {
      "image/png": "[encoded data removed]",
      "text/plain": [
       "<Figure size 432x288 with 1 Axes>"
      ]
     },
     "metadata": {
      "needs_background": "light"
     },
     "output_type": "display_data"
    },
    {
     "data": {
      "image/png": "[encoded data removed]",
      "text/plain": [
       "<Figure size 432x288 with 1 Axes>"
      ]
     },
     "metadata": {
      "needs_background": "light"
     },
     "output_type": "display_data"
    }
   ],
   "source": [
    "plot(cubic_range, cubic_function(cubic_range), 'Cubic function')\n",
    "plot(absolute_range, absolute_function(absolute_range), 'Absolute value function')\n",
    "plot(sine_range, sine_function(sine_range), 'Sine function')"
   ]
  },
  {
   "cell_type": "markdown",
   "metadata": {},
   "source": [
    "Implementing the algorithms of exhaustive search, dichotomy and golden section search."
   ]
  },
  {
   "cell_type": "code",
   "execution_count": null,
   "metadata": {},
   "outputs": [],
   "source": []
  },
  {
   "cell_type": "code",
   "execution_count": null,
   "metadata": {},
   "outputs": [],
   "source": []
  },
  {
   "cell_type": "code",
   "execution_count": null,
   "metadata": {},
   "outputs": [],
   "source": []
  },
  {
   "cell_type": "markdown",
   "metadata": {},
   "source": []
  },
  {
   "cell_type": "code",
   "execution_count": null,
   "metadata": {},
   "outputs": [],
   "source": [
    "def exhaustive_search(function, a, b):\n",
    "    i = 1\n",
    "    # Calculate the number of iterationsd\n",
    "    n = (b - a) / eps\n",
    "    k = 0\n",
    "    x = a + k * ((b - a) / n)\n",
    "    f = function(x)\n",
    "    minimum = f\n",
    "    xm = x\n",
    "    print(i, xm, minimum)\n",
    "    # Iterate through the possible options\n",
    "    for k in np.arange(1,n):\n",
    "        x = a + k * ((b - a) / n)\n",
    "        f = function(x)\n",
    "        \n",
    "        # Detect the minimum\n",
    "        if f < minimum:\n",
    "            minimum = f\n",
    "            xm = x\n",
    "        i += 1\n",
    "    return xm, i"
   ]
  },
  {
   "cell_type": "code",
   "execution_count": null,
   "metadata": {},
   "outputs": [],
   "source": [
    "def exhaustive_search(fun: Callable[[float], float], limits: Tuple[float, float],\n",
    "                      eps: float = 1e-3) -> Tuple[float, float]:\n",
    "    x_min, f_min, x = None, None, limits[0]\n",
    "\n",
    "    while x <= limits[1]:\n",
    "        f_cur = fun(x)\n",
    "        if x_min is None or f_cur < f_min:\n",
    "            x_min, f_min = x, f_cur\n",
    "        x += eps\n",
    "\n",
    "    n = round((limits[1] - limits[0]) / eps)\n",
    "    print(f\"Cnt of func eval: {n}\\nCnt of iteration: {n}\")\n",
    "\n",
    "    return x_min, f_min"
   ]
  },
  {
   "cell_type": "code",
   "execution_count": null,
   "metadata": {},
   "outputs": [],
   "source": [
    "def ExhaustiveSearch(f,a,b):\n",
    "    f.calls = 0\n",
    "    eps = 0.001\n",
    "    n = int((b-a)/eps)\n",
    "    Function = []\n",
    "    x = []\n",
    "    for k in range(0,n+1):\n",
    "        x.append(a + k*eps)\n",
    "        Function.append(f(x[k]))\n",
    "    Fmin = min(Function)\n",
    "    xmin = x[Function.index(Fmin)]\n",
    "    print(\"Function calls: \", f.calls)\n",
    "    print(\"Minimum at: \",xmin)\n",
    "    print(\"Iterations: \",n+1)\n",
    "    return xmin, Fmin"
   ]
  },
  {
   "cell_type": "code",
   "execution_count": null,
   "metadata": {},
   "outputs": [],
   "source": [
    "def brute_force(func, bounds, eps):\n",
    "    iterations = 0\n",
    "    x_best = bounds[0]\n",
    "    func_best = func(x_best)\n",
    "    for x in np.arange(bounds[0], bounds[1], eps):\n",
    "        iterations += 1\n",
    "        if func(x) < func_best:\n",
    "            func_best = func(x)\n",
    "            x_best = x\n",
    "    return x_best, func_best, iterations"
   ]
  },
  {
   "cell_type": "markdown",
   "metadata": {},
   "source": [
    "<a name='003'></a>\n",
    "\n",
    "<h2>Appendix to Section II</h2>"
   ]
  },
  {
   "cell_type": "markdown",
   "metadata": {},
   "source": []
  },
  {
   "cell_type": "code",
   "execution_count": null,
   "metadata": {},
   "outputs": [],
   "source": []
  }
 ],
 "metadata": {
  "kernelspec": {
   "display_name": "Python 3",
   "language": "python",
   "name": "python3"
  },
  "language_info": {
   "codemirror_mode": {
    "name": "ipython",
    "version": 3
   },
   "file_extension": ".py",
   "mimetype": "text/x-python",
   "name": "python",
   "nbconvert_exporter": "python",
   "pygments_lexer": "ipython3",
   "version": "3.8.3"
  },
  "latex_envs": {
   "LaTeX_envs_menu_present": true,
   "autoclose": false,
   "autocomplete": true,
   "bibliofile": "biblio.bib",
   "cite_by": "apalike",
   "current_citInitial": 1,
   "eqLabelWithNumbers": true,
   "eqNumInitial": 1,
   "hotkeys": {
    "equation": "Ctrl-E",
    "itemize": "Ctrl-I"
   },
   "labels_anchors": false,
   "latex_user_defs": false,
   "report_style_numbering": false,
   "user_envs_cfg": false
  }
 },
 "nbformat": 4,
 "nbformat_minor": 4
}
