{
 "cells": [
  {
   "cell_type": "markdown",
   "metadata": {},
   "source": [
    "<h1>TASK 4. ALGORITHMS FOR UNCONSTRAINED NONLINEAR OPTIMIZATION. STOCHASTIC AND METAHEURISTIC ALGORITHMS</h1>"
   ]
  },
  {
   "cell_type": "markdown",
   "metadata": {},
   "source": [
    "<a name='000'></a>\n",
    "\n",
    "<h2>Content</h2>\n",
    "\n",
    "<ul>\n",
    "    <ol type='1'>\n",
    "    <li><a href='#001'>Environment configuration</a></li>\n",
    "    <li><a href='#002'>Appendix to Section I</a></li>\n",
    "    <li><a href='#003'>Appendix to Section II</a></li>\n",
    "    </ol>\n",
    "</ul>"
   ]
  },
  {
   "cell_type": "markdown",
   "metadata": {},
   "source": [
    "<a name='001'></a>\n",
    "\n",
    "<h2>Environment configuration</h2>"
   ]
  },
  {
   "cell_type": "code",
   "execution_count": 1,
   "metadata": {},
   "outputs": [],
   "source": [
    "import numpy as np\n",
    "import scipy.optimize\n",
    "import pyswarm\n",
    "import matplotlib.pyplot as plt\n",
    "import warnings\n",
    "import random"
   ]
  },
  {
   "cell_type": "code",
   "execution_count": 2,
   "metadata": {},
   "outputs": [],
   "source": [
    "warnings.filterwarnings(action='ignore')\n",
    "random.seed(0)"
   ]
  },
  {
   "cell_type": "markdown",
   "metadata": {},
   "source": [
    "<a name='002'></a>\n",
    "\n",
    "<h2>Appendix to Section I</h2>"
   ]
  },
  {
   "cell_type": "markdown",
   "metadata": {},
   "source": [
    "Implementing the functions and the range of values of the functions."
   ]
  },
  {
   "cell_type": "code",
   "execution_count": 3,
   "metadata": {},
   "outputs": [],
   "source": [
    "epsilon = 0.001\n",
    "num_iterations = 1000\n",
    "\n",
    "def f(x):\n",
    "    return 1 / (np.power(x, 2) - 3 * x + 2)"
   ]
  },
  {
   "cell_type": "code",
   "execution_count": 4,
   "metadata": {},
   "outputs": [],
   "source": [
    "x_k = np.array([3 * x / num_iterations for x in range(0, num_iterations)])\n",
    "y_k = np.array([-100 + np.random.normal() if f(x) < -100 else\n",
    "                100 + np.random.normal() if f(x) > 100 else\n",
    "                f(x) + np.random.normal() for x in x_k])"
   ]
  },
  {
   "cell_type": "code",
   "execution_count": 5,
   "metadata": {},
   "outputs": [],
   "source": [
    "def rational_approximant(x, a, b, c, d):\n",
    "    return (a * x + b) / (np.power(x, 2) + c * x + d)"
   ]
  },
  {
   "cell_type": "code",
   "execution_count": 6,
   "metadata": {},
   "outputs": [],
   "source": [
    "def loss_function(x, function=rational_approximant):\n",
    "    amount = 0\n",
    "    \n",
    "    for i in range(num_iterations):\n",
    "        amount = amount + np.power(function(x_k[i], x[0], x[1], x[2], x[3]) - y_k[i], 2)\n",
    "    \n",
    "    return amount"
   ]
  },
  {
   "cell_type": "markdown",
   "metadata": {},
   "source": [
    "Implementing the methods of Simulated Annealing, Differential Evolution, Particle Swarm Optimization, Nelder-Mead and Levenberg-Marquardt algorithms."
   ]
  },
  {
   "cell_type": "code",
   "execution_count": 7,
   "metadata": {},
   "outputs": [],
   "source": [
    "def simulated_annealing(function):\n",
    "    return scipy.optimize.basinhopping(\n",
    "        function,\n",
    "        x0=([0.5, 0.5, 0.5, 0.5]),\n",
    "        minimizer_kwargs={'method': 'BFGS'}\n",
    "    )\n",
    "\n",
    "def differential_evolution(function):\n",
    "    return scipy.optimize.differential_evolution(\n",
    "        function,\n",
    "        bounds=[(0, 5), (0, 5), (0, 5), (0, 5)],\n",
    "        tol=epsilon\n",
    "    )\n",
    "\n",
    "def particle_swarm_optimization(function):\n",
    "    return pyswarm.pso(\n",
    "        function,\n",
    "        lb=(0, 0, 0, 0),\n",
    "        ub=(5, 5, 5, 5),\n",
    "        maxiter=100,\n",
    "        minstep=epsilon\n",
    "    )\n",
    "\n",
    "def neldermead_search(function):\n",
    "    return scipy.optimize.minimize(\n",
    "        function,\n",
    "        x0=([0.5, 0.5, 0.5, 0.5]),\n",
    "        method='Nelder-Mead',\n",
    "        tol=epsilon\n",
    "    )\n",
    "\n",
    "def levenberg_marquardt_algorithm(function, x, y):\n",
    "    return scipy.optimize.curve_fit(\n",
    "        function,\n",
    "        xdata=x,\n",
    "        ydata=y,\n",
    "        method='lm'\n",
    "    )"
   ]
  },
  {
   "cell_type": "code",
   "execution_count": null,
   "metadata": {},
   "outputs": [],
   "source": [
    "a_nm, b_nm, c_nm, d_nm = simulated_annealing(loss_function).x\n",
    "\n",
    "print('Simulated Annealing arguments: {:.6f}, {:.6f}, {:.6f}, {:.6f}'.format(a_nm, b_nm, c_nm, d_nm))"
   ]
  },
  {
   "cell_type": "code",
   "execution_count": null,
   "metadata": {},
   "outputs": [],
   "source": [
    "a_nm, b_nm, c_nm, d_nm = differential_evolution(loss_function).x\n",
    "\n",
    "print('Differential Evolution arguments: {:.6f}, {:.6f}, {:.6f}, {:.6f}'.format(a_nm, b_nm, c_nm, d_nm))"
   ]
  },
  {
   "cell_type": "code",
   "execution_count": null,
   "metadata": {},
   "outputs": [],
   "source": [
    "a_nm, b_nm, c_nm, d_nm = particle_swarm_optimization(loss_function)[0]\n",
    "\n",
    "print('Particle Swarm Optimization arguments: {:.6f}, {:.6f}, {:.6f}, {:.6f}'.format(a_nm, b_nm, c_nm, d_nm))"
   ]
  },
  {
   "cell_type": "code",
   "execution_count": null,
   "metadata": {},
   "outputs": [],
   "source": [
    "a_nm, b_nm, c_nm, d_nm = neldermead_search(loss_function).x\n",
    "\n",
    "print('Nelder-Mead Search arguments: {:.6f}, {:.6f}, {:.6f}, {:.6f}'.format(a_nm, b_nm, c_nm, d_nm))"
   ]
  },
  {
   "cell_type": "code",
   "execution_count": null,
   "metadata": {},
   "outputs": [],
   "source": [
    "a_lm, b_lm, c_lm, d_lm = levenberg_marquardt_algorithm(rational_approximant, x_k, y_k)[0]\n",
    "\n",
    "print('Levenberg-Marquardt Algorithm arguments: {:.6f}, {:.6f}, {:.6f}, {:.6f}'.format(a_lm, b_lm, c_lm, d_lm))"
   ]
  },
  {
   "cell_type": "code",
   "execution_count": null,
   "metadata": {},
   "outputs": [],
   "source": [
    "plt.figure(figsize=(20, 10))\n",
    "plt.plot(x_k, y_k, '+', label='Data')\n",
    "\n",
    "y = [rational_approximant(x, a_nm, b_nm, c_nm, d_nm) for x in x_k]\n",
    "plt.plot(x_k, y, label='Simulated Annealing')\n",
    "\n",
    "y = [rational_approximant(x, a_nm, b_nm, c_nm, d_nm) for x in x_k]\n",
    "plt.plot(x_k, y, label='Differential Evolution')\n",
    "\n",
    "y = [rational_approximant(x, a_nm, b_nm, c_nm, d_nm) for x in x_k]\n",
    "plt.plot(x_k, y, label='Particle Swarm Optimization')\n",
    "\n",
    "y = [rational_approximant(x, a_nm, b_nm, c_nm, d_nm) for x in x_k]\n",
    "plt.plot(x_k, y, label='Nelder-Mead Search')\n",
    "\n",
    "y = [rational_approximant(x, a_lm, b_lm, c_lm, d_lm) for x in x_k]\n",
    "plt.plot(x_k, y, label='Levenberg-Marquardt Algorithm')\n",
    "\n",
    "ax = plt.gca()\n",
    "ax.axhline(y=0, color='k')\n",
    "ax.axvline(x=0, color='k')\n",
    "ax.spines['top'].set_visible(False)\n",
    "ax.spines['bottom'].set_visible(False)\n",
    "ax.spines['right'].set_visible(False)\n",
    "ax.spines['left'].set_visible(False)\n",
    "ax.set_title('Minimization of Rational Approximating Function')\n",
    "ax.legend()\n",
    "\n",
    "plt.show()"
   ]
  },
  {
   "cell_type": "markdown",
   "metadata": {},
   "source": [
    "<a name='003'></a>\n",
    "\n",
    "<h2>Appendix to Section II</h2>"
   ]
  },
  {
   "cell_type": "code",
   "execution_count": null,
   "metadata": {},
   "outputs": [],
   "source": []
  }
 ],
 "metadata": {
  "kernelspec": {
   "display_name": "Python 3",
   "language": "python",
   "name": "python3"
  },
  "language_info": {
   "codemirror_mode": {
    "name": "ipython",
    "version": 3
   },
   "file_extension": ".py",
   "mimetype": "text/x-python",
   "name": "python",
   "nbconvert_exporter": "python",
   "pygments_lexer": "ipython3",
   "version": "3.8.3"
  },
  "latex_envs": {
   "LaTeX_envs_menu_present": true,
   "autoclose": false,
   "autocomplete": true,
   "bibliofile": "biblio.bib",
   "cite_by": "apalike",
   "current_citInitial": 1,
   "eqLabelWithNumbers": true,
   "eqNumInitial": 1,
   "hotkeys": {
    "equation": "Ctrl-E",
    "itemize": "Ctrl-I"
   },
   "labels_anchors": false,
   "latex_user_defs": false,
   "report_style_numbering": false,
   "user_envs_cfg": false
  }
 },
 "nbformat": 4,
 "nbformat_minor": 4
}
